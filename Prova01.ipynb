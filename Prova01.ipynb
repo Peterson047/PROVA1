{
 "cells": [
  {
   "cell_type": "code",
   "execution_count": 20,
   "id": "e96ec9ee",
   "metadata": {
    "scrolled": false
   },
   "outputs": [
    {
     "name": "stdout",
     "output_type": "stream",
     "text": [
      "Digite o primeiro número: 87\n",
      "Digite o segundo número: 34\n",
      "Digite o terceiro número: 21\n",
      "A média dos dois maiores números é: 60.5\n"
     ]
    }
   ],
   "source": [
    "\n",
    "n1 = int(input(\"Digite o primeiro número: \"))\n",
    "n2 = int(input(\"Digite o segundo número: \"))\n",
    "n3 = int(input(\"Digite o terceiro número: \"))\n",
    "\n",
    "maximo1 = max(n1, n2, n3)\n",
    "minimo1 = min(n1, n2, n3)\n",
    "maximo2 = n1 + n2 + n3 - maximo1 - minimo1\n",
    "\n",
    "media = (maximo1 + maximo2) / 2\n",
    "\n",
    "print(\"A média dos dois maiores números é:\", media)\n"
   ]
  },
  {
   "cell_type": "code",
   "execution_count": null,
   "id": "609577eb",
   "metadata": {},
   "outputs": [],
   "source": []
  },
  {
   "cell_type": "code",
   "execution_count": null,
   "id": "512aae54",
   "metadata": {},
   "outputs": [],
   "source": []
  }
 ],
 "metadata": {
  "kernelspec": {
   "display_name": "Python 3 (ipykernel)",
   "language": "python",
   "name": "python3"
  },
  "language_info": {
   "codemirror_mode": {
    "name": "ipython",
    "version": 3
   },
   "file_extension": ".py",
   "mimetype": "text/x-python",
   "name": "python",
   "nbconvert_exporter": "python",
   "pygments_lexer": "ipython3",
   "version": "3.11.5"
  }
 },
 "nbformat": 4,
 "nbformat_minor": 5
}
